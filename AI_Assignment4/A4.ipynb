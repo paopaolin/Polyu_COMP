{
 "cells": [
  {
   "cell_type": "code",
   "execution_count": 1,
   "id": "d49090a2",
   "metadata": {},
   "outputs": [
    {
     "name": "stdout",
     "output_type": "stream",
     "text": [
      "[[ 0.         -0.04836104 -0.04286133 ... -0.17299065 -0.09181827\n",
      "  -0.02215628]\n",
      " [ 0.         -0.04836104 -0.04286133 ... -0.17299065 -0.09181827\n",
      "  -0.02215628]\n",
      " [ 0.         -0.04836104 -0.04286133 ... -0.17299065 -0.09181827\n",
      "  -0.02215628]\n",
      " ...\n",
      " [ 0.         -0.04836104 -0.04286133 ... -0.17299065 -0.09181827\n",
      "  -0.02215628]\n",
      " [ 0.         -0.04836104 -0.04286133 ... -0.17299065 -0.09181827\n",
      "  -0.02215628]\n",
      " [ 0.         -0.04836104 -0.04286133 ... -0.17299065 -0.09181827\n",
      "  -0.02215628]]\n"
     ]
    }
   ],
   "source": [
    "import os\n",
    "import pandas as pd\n",
    "import numpy as np\n",
    "import matplotlib.pyplot as plt\n",
    "from sklearn.cluster import AgglomerativeClustering\n",
    "from sklearn.preprocessing import StandardScaler\n",
    "\n",
    "def read_data_from_csv(path):\n",
    "    \"\"\"Load datasets from CSV files.\n",
    "    Args:\n",
    "        path (str): Path to the CSV file.\n",
    "    Returns:\n",
    "        X (np.ndarray): Features of samples.\n",
    "    \"\"\"\n",
    "    assert os.path.exists(path), f'File not found: {path}!'\n",
    "    assert os.path.splitext(path)[-1] == '.csv', f'Unsupported file type {os.path.splitext(path)[-1]}!'\n",
    "\n",
    "    data = pd.read_csv(path)\n",
    "    X = data.values\n",
    "    return X\n",
    "\n",
    "# Load the data\n",
    "X_public = read_data_from_csv('assignment_4_public.csv')\n",
    "\n",
    "# Standardize the data\n",
    "scaler = StandardScaler()\n",
    "X_public = scaler.fit_transform(X_public)\n",
    "\n",
    "print(X_public)\n"
   ]
  },
  {
   "cell_type": "code",
   "execution_count": 15,
   "id": "348c447d",
   "metadata": {},
   "outputs": [],
   "source": [
    "n_clusters = 5  # You need to determine the optimal number of clusters\n",
    "agg_clustering = AgglomerativeClustering(n_clusters=n_clusters, linkage='ward')\n",
    "agg_labels = agg_clustering.fit_predict(X_public)\n"
   ]
  },
  {
   "cell_type": "code",
   "execution_count": 2,
   "id": "3f9849b7",
   "metadata": {},
   "outputs": [
    {
     "name": "stderr",
     "output_type": "stream",
     "text": [
      "/Users/mgl/opt/anaconda3/lib/python3.9/site-packages/sklearn/utils/extmath.py:192: RuntimeWarning: invalid value encountered in matmul\n",
      "  ret = a @ b\n",
      "/Users/mgl/opt/anaconda3/lib/python3.9/site-packages/sklearn/utils/extmath.py:192: RuntimeWarning: invalid value encountered in matmul\n",
      "  ret = a @ b\n",
      "/Users/mgl/opt/anaconda3/lib/python3.9/site-packages/sklearn/utils/extmath.py:192: RuntimeWarning: invalid value encountered in matmul\n",
      "  ret = a @ b\n",
      "/Users/mgl/opt/anaconda3/lib/python3.9/site-packages/sklearn/utils/extmath.py:192: RuntimeWarning: invalid value encountered in matmul\n",
      "  ret = a @ b\n",
      "/Users/mgl/opt/anaconda3/lib/python3.9/site-packages/sklearn/utils/extmath.py:192: RuntimeWarning: invalid value encountered in matmul\n",
      "  ret = a @ b\n",
      "/Users/mgl/opt/anaconda3/lib/python3.9/site-packages/sklearn/utils/extmath.py:192: RuntimeWarning: invalid value encountered in matmul\n",
      "  ret = a @ b\n",
      "/Users/mgl/opt/anaconda3/lib/python3.9/site-packages/sklearn/utils/extmath.py:192: RuntimeWarning: invalid value encountered in matmul\n",
      "  ret = a @ b\n",
      "/Users/mgl/opt/anaconda3/lib/python3.9/site-packages/sklearn/utils/extmath.py:192: RuntimeWarning: invalid value encountered in matmul\n",
      "  ret = a @ b\n"
     ]
    },
    {
     "name": "stdout",
     "output_type": "stream",
     "text": [
      "Optimal number of clusters: 3\n"
     ]
    },
    {
     "name": "stderr",
     "output_type": "stream",
     "text": [
      "/Users/mgl/opt/anaconda3/lib/python3.9/site-packages/sklearn/utils/extmath.py:192: RuntimeWarning: invalid value encountered in matmul\n",
      "  ret = a @ b\n"
     ]
    }
   ],
   "source": [
    "from sklearn.metrics import silhouette_score\n",
    "\n",
    "best_silhouette_score = -1\n",
    "best_n_clusters = 2  # Start with a minimum of 2 clusters\n",
    "\n",
    "for n_clusters in range(2, 11):  # Try different numbers of clusters\n",
    "    agg_clustering = AgglomerativeClustering(n_clusters=n_clusters, linkage='ward')\n",
    "    agg_labels = agg_clustering.fit_predict(X_public)\n",
    "    silhouette_avg = silhouette_score(X_public, agg_labels)\n",
    "    \n",
    "    if silhouette_avg > best_silhouette_score:\n",
    "        best_silhouette_score = silhouette_avg\n",
    "        best_n_clusters = n_clusters\n",
    "\n",
    "print(\"Optimal number of clusters:\", best_n_clusters)\n"
   ]
  },
  {
   "cell_type": "code",
   "execution_count": 3,
   "id": "fc9c9f9d",
   "metadata": {},
   "outputs": [],
   "source": [
    "from scipy.cluster.hierarchy import dendrogram, linkage"
   ]
  },
  {
   "cell_type": "code",
   "execution_count": 18,
   "id": "7f32f640",
   "metadata": {},
   "outputs": [],
   "source": [
    "n_clusters = 3"
   ]
  },
  {
   "cell_type": "code",
   "execution_count": 19,
   "id": "ed589b28",
   "metadata": {},
   "outputs": [
    {
     "data": {
      "image/png": "[encoded data removed]",
      "text/plain": [
       "<Figure size 720x432 with 1 Axes>"
      ]
     },
     "metadata": {
      "needs_background": "light"
     },
     "output_type": "display_data"
    }
   ],
   "source": [
    "# Perform hierarchical clustering\n",
    "linked = linkage(X_public, 'ward')  # it can experiment with different linkage methods\n",
    "\n",
    "# Create a dendrogram\n",
    "plt.figure(figsize=(10, 6))\n",
    "dendrogram(linked, orientation='top', distance_sort='descending', show_leaf_counts=True)\n",
    "plt.title('Dendrogram for Hierarchical Clustering')\n",
    "plt.xlabel('Sample Index')\n",
    "plt.ylabel('Distance')\n",
    "plt.show()"
   ]
  },
  {
   "cell_type": "code",
   "execution_count": 6,
   "id": "5c2ce2d3",
   "metadata": {},
   "outputs": [],
   "source": [
    "# Perform hierarchical clustering with the optimal number of clusters\n",
    "agg_clustering = AgglomerativeClustering(n_clusters=best_n_clusters, linkage='ward')\n",
    "preds = agg_clustering.fit_predict(X_public)\n"
   ]
  },
  {
   "cell_type": "code",
   "execution_count": 4,
   "id": "f1d4686c",
   "metadata": {},
   "outputs": [
    {
     "name": "stdout",
     "output_type": "stream",
     "text": [
      "Davies-Bouldin Index: 2.090390941263207\n",
      "Silhouette Coefficient: 0.1665366389797547\n"
     ]
    },
    {
     "name": "stderr",
     "output_type": "stream",
     "text": [
      "/Users/mgl/opt/anaconda3/lib/python3.9/site-packages/sklearn/utils/extmath.py:192: RuntimeWarning: invalid value encountered in matmul\n",
      "  ret = a @ b\n"
     ]
    }
   ],
   "source": [
    "from sklearn.metrics import davies_bouldin_score, silhouette_score\n",
    "from sklearn.cluster import AgglomerativeClustering\n",
    "\n",
    "# Perform hierarchical clustering with different numbers of clusters\n",
    "best_n_clusters = 3  # Replace with the determined optimal number of clusters\n",
    "agg_clustering = AgglomerativeClustering(n_clusters=best_n_clusters, linkage='ward')\n",
    "agg_labels = agg_clustering.fit_predict(X_public)\n",
    "\n",
    "# Evaluate the clustering using Davies-Bouldin Index, Dunn Index, and Silhouette Coefficient\n",
    "davies_bouldin = davies_bouldin_score(X_public, agg_labels)\n",
    "silhouette_avg = silhouette_score(X_public, agg_labels)\n",
    "\n",
    "print(\"Davies-Bouldin Index:\", davies_bouldin)\n",
    "print(\"Silhouette Coefficient:\", silhouette_avg)\n"
   ]
  },
  {
   "cell_type": "code",
   "execution_count": 32,
   "id": "b2938927",
   "metadata": {},
   "outputs": [],
   "source": [
    "\n",
    "# Perform hierarchical clustering with the optimal number of clusters\n",
    "agg_clustering = AgglomerativeClustering(n_clusters=best_n_clusters, linkage='complete')\n",
    "preds = agg_clustering.fit_predict(X_public)"
   ]
  },
  {
   "cell_type": "code",
   "execution_count": 33,
   "id": "9b8caa84",
   "metadata": {},
   "outputs": [
    {
     "name": "stdout",
     "output_type": "stream",
     "text": [
      "Davies-Bouldin Index: 1.327355363531961\n",
      "Silhouette Coefficient: 0.4271859006911431\n"
     ]
    },
    {
     "name": "stderr",
     "output_type": "stream",
     "text": [
      "/Users/mgl/opt/anaconda3/lib/python3.9/site-packages/sklearn/utils/extmath.py:192: RuntimeWarning: invalid value encountered in matmul\n",
      "  ret = a @ b\n"
     ]
    }
   ],
   "source": [
    "# Perform hierarchical clustering with different numbers of clusters\n",
    "best_n_clusters = 3  # Replace with the determined optimal number of clusters\n",
    "agg_clustering = AgglomerativeClustering(n_clusters=best_n_clusters, linkage='complete')\n",
    "agg_labels = agg_clustering.fit_predict(X_public)\n",
    "\n",
    "# Evaluate the clustering using Davies-Bouldin Index, Dunn Index, and Silhouette Coefficient\n",
    "davies_bouldin = davies_bouldin_score(X_public, agg_labels)\n",
    "silhouette_avg = silhouette_score(X_public, agg_labels)\n",
    "\n",
    "print(\"Davies-Bouldin Index:\", davies_bouldin)\n",
    "print(\"Silhouette Coefficient:\", silhouette_avg)"
   ]
  },
  {
   "cell_type": "code",
   "execution_count": 34,
   "id": "d337a5f8",
   "metadata": {},
   "outputs": [
    {
     "name": "stdout",
     "output_type": "stream",
     "text": [
      "Davies-Bouldin Index: 0.23134909296592285\n",
      "Silhouette Coefficient: 0.6661107920453977\n"
     ]
    },
    {
     "name": "stderr",
     "output_type": "stream",
     "text": [
      "/Users/mgl/opt/anaconda3/lib/python3.9/site-packages/sklearn/utils/extmath.py:192: RuntimeWarning: invalid value encountered in matmul\n",
      "  ret = a @ b\n"
     ]
    }
   ],
   "source": [
    "# Perform hierarchical clustering with different numbers of clusters\n",
    "best_n_clusters = 3  # Replace with the determined optimal number of clusters\n",
    "agg_clustering = AgglomerativeClustering(n_clusters=best_n_clusters, linkage='average')\n",
    "agg_labels = agg_clustering.fit_predict(X_public)\n",
    "\n",
    "# Evaluate the clustering using Davies-Bouldin Index, Dunn Index, and Silhouette Coefficient\n",
    "davies_bouldin = davies_bouldin_score(X_public, agg_labels)\n",
    "silhouette_avg = silhouette_score(X_public, agg_labels)\n",
    "\n",
    "print(\"Davies-Bouldin Index:\", davies_bouldin)\n",
    "print(\"Silhouette Coefficient:\", silhouette_avg)"
   ]
  },
  {
   "cell_type": "code",
   "execution_count": 7,
   "id": "2242a320",
   "metadata": {},
   "outputs": [],
   "source": [
    "submission = pd.DataFrame({'Label': preds})\n",
    "submission.to_csv('assignment_4.csv', index=True, index_label='Id')\n"
   ]
  },
  {
   "cell_type": "code",
   "execution_count": 39,
   "id": "02e00ac9",
   "metadata": {},
   "outputs": [
    {
     "name": "stdout",
     "output_type": "stream",
     "text": [
      "Saved the example image to output_images/example_image.png\n"
     ]
    }
   ],
   "source": [
    "import os\n",
    "import pandas as pd\n",
    "import numpy as np\n",
    "from PIL import Image\n",
    "\n",
    "# Load the CSV data\n",
    "data = pd.read_csv('assignment_4_public.csv')\n",
    "\n",
    "# Select the first row as an example\n",
    "image_data = data.iloc[0].values\n",
    "\n",
    "# Reshape the data to match the image dimensions (28x28 pixels)\n",
    "image_size = 28\n",
    "image_data = image_data.reshape(image_size, image_size)\n",
    "\n",
    "# Normalize pixel values (assuming they are in the range 0-255)\n",
    "image_data = image_data / 255.0\n",
    "\n",
    "# Create and save the image\n",
    "output_directory = 'output_images'\n",
    "\n",
    "# Create the output directory if it doesn't exist\n",
    "os.makedirs(output_directory, exist_ok=True)\n",
    "\n",
    "image = Image.fromarray((image_data * 255).astype('uint8'), mode='L')\n",
    "image.save(os.path.join(output_directory, 'example_image.png'))\n",
    "\n",
    "print('Saved the example image to', os.path.join(output_directory, 'example_image.png'))\n"
   ]
  },
  {
   "cell_type": "code",
   "execution_count": 38,
   "id": "824469db",
   "metadata": {},
   "outputs": [
    {
     "name": "stdout",
     "output_type": "stream",
     "text": [
      "Saved the example image to output_images/example_image.png\n"
     ]
    }
   ],
   "source": [
    "import os\n",
    "import pandas as pd\n",
    "import numpy as np\n",
    "from PIL import Image\n",
    "\n",
    "# Load the CSV data\n",
    "data = pd.read_csv('assignment_4_public.csv')\n",
    "\n",
    "# Select the first row as an example\n",
    "image_data = data.iloc[11].values\n",
    "\n",
    "# Reshape the data to match the image dimensions (28x28 pixels)\n",
    "image_size = 28\n",
    "image_data = image_data.reshape(image_size, image_size)\n",
    "\n",
    "# Normalize pixel values (assuming they are in the range 0-255)\n",
    "image_data = image_data / 255.0\n",
    "\n",
    "# Create and save the image\n",
    "output_directory = 'output_images'\n",
    "\n",
    "# Create the output directory if it doesn't exist\n",
    "os.makedirs(output_directory, exist_ok=True)\n",
    "\n",
    "image = Image.fromarray((image_data * 255).astype('uint8'), mode='L')\n",
    "image.save(os.path.join(output_directory, 'example_image.png'))\n",
    "\n",
    "print('Saved the example image to', os.path.join(output_directory, 'example_image1.png'))\n"
   ]
  },
  {
   "cell_type": "code",
   "execution_count": 40,
   "id": "6c443682",
   "metadata": {},
   "outputs": [
    {
     "name": "stdout",
     "output_type": "stream",
     "text": [
      "Saved the example image to output_images/example_image2.png\n"
     ]
    }
   ],
   "source": [
    "import os\n",
    "import pandas as pd\n",
    "import numpy as np\n",
    "from PIL import Image\n",
    "\n",
    "# Load the CSV data\n",
    "data = pd.read_csv('assignment_4_public.csv')\n",
    "\n",
    "# Select the first row as an example\n",
    "image_data = data.iloc[1].values\n",
    "\n",
    "# Reshape the data to match the image dimensions (28x28 pixels)\n",
    "image_size = 28\n",
    "image_data = image_data.reshape(image_size, image_size)\n",
    "\n",
    "# Normalize pixel values (assuming they are in the range 0-255)\n",
    "image_data = image_data / 255.0\n",
    "\n",
    "# Create and save the image\n",
    "output_directory = 'output_images'\n",
    "\n",
    "# Create the output directory if it doesn't exist\n",
    "os.makedirs(output_directory, exist_ok=True)\n",
    "\n",
    "image = Image.fromarray((image_data * 255).astype('uint8'), mode='L')\n",
    "image.save(os.path.join(output_directory, 'example_image.png'))\n",
    "\n",
    "print('Saved the example image to', os.path.join(output_directory, 'example_image2.png'))\n"
   ]
  },
  {
   "cell_type": "code",
   "execution_count": 8,
   "id": "8375a5bd",
   "metadata": {},
   "outputs": [
    {
     "name": "stdout",
     "output_type": "stream",
     "text": [
      "Saved the example image to output_images/example_image3.png\n"
     ]
    }
   ],
   "source": [
    "import os\n",
    "import pandas as pd\n",
    "import numpy as np\n",
    "from PIL import Image\n",
    "\n",
    "# Load the CSV data\n",
    "data = pd.read_csv('assignment_4_public.csv')\n",
    "\n",
    "# Select the first row as an example\n",
    "image_data = data.iloc[2].values\n",
    "\n",
    "# Reshape the data to match the image dimensions (28x28 pixels)\n",
    "image_size = 28\n",
    "image_data = image_data.reshape(image_size, image_size)\n",
    "\n",
    "# Normalize pixel values (assuming they are in the range 0-255)\n",
    "image_data = image_data / 255.0\n",
    "\n",
    "# Create and save the image\n",
    "output_directory = 'output_images'\n",
    "\n",
    "# Create the output directory if it doesn't exist\n",
    "os.makedirs(output_directory, exist_ok=True)\n",
    "\n",
    "image = Image.fromarray((image_data * 255).astype('uint8'), mode='L')\n",
    "image.save(os.path.join(output_directory, 'example_image3.png'))\n",
    "\n",
    "print('Saved the example image to', os.path.join(output_directory, 'example_image3.png'))\n"
   ]
  },
  {
   "cell_type": "code",
   "execution_count": 10,
   "id": "59e77a73",
   "metadata": {},
   "outputs": [
    {
     "name": "stdout",
     "output_type": "stream",
     "text": [
      "Saved the example image to output_images/example_image5.png\n"
     ]
    }
   ],
   "source": [
    "import os\n",
    "import pandas as pd\n",
    "import numpy as np\n",
    "from PIL import Image\n",
    "\n",
    "# Load the CSV data\n",
    "data = pd.read_csv('assignment_4_public.csv')\n",
    "\n",
    "# Select the first row as an example\n",
    "image_data = data.iloc[4].values\n",
    "\n",
    "# Reshape the data to match the image dimensions (28x28 pixels)\n",
    "image_size = 28\n",
    "image_data = image_data.reshape(image_size, image_size)\n",
    "\n",
    "# Normalize pixel values (assuming they are in the range 0-255)\n",
    "image_data = image_data / 255.0\n",
    "\n",
    "# Create and save the image\n",
    "output_directory = 'output_images'\n",
    "\n",
    "# Create the output directory if it doesn't exist\n",
    "os.makedirs(output_directory, exist_ok=True)\n",
    "\n",
    "image = Image.fromarray((image_data * 255).astype('uint8'), mode='L')\n",
    "image.save(os.path.join(output_directory, 'example_image4.png'))\n",
    "\n",
    "print('Saved the example image to', os.path.join(output_directory, 'example_image4.png'))\n"
   ]
  },
  {
   "cell_type": "code",
   "execution_count": null,
   "id": "84555a97",
   "metadata": {},
   "outputs": [],
   "source": []
  }
 ],
 "metadata": {
  "kernelspec": {
   "display_name": "Python 3 (ipykernel)",
   "language": "python",
   "name": "python3"
  },
  "language_info": {
   "codemirror_mode": {
    "name": "ipython",
    "version": 3
   },
   "file_extension": ".py",
   "mimetype": "text/x-python",
   "name": "python",
   "nbconvert_exporter": "python",
   "pygments_lexer": "ipython3",
   "version": "3.9.7"
  }
 },
 "nbformat": 4,
 "nbformat_minor": 5
}
