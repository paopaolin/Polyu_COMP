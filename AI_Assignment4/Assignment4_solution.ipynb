{
 "cells": [
  {
   "cell_type": "code",
   "execution_count": 1,
   "id": "d49090a2",
   "metadata": {},
   "outputs": [
    {
     "name": "stdout",
     "output_type": "stream",
     "text": [
      "[[ 0.         -0.04836104 -0.04286133 ... -0.17299065 -0.09181827\n",
      "  -0.02215628]\n",
      " [ 0.         -0.04836104 -0.04286133 ... -0.17299065 -0.09181827\n",
      "  -0.02215628]\n",
      " [ 0.         -0.04836104 -0.04286133 ... -0.17299065 -0.09181827\n",
      "  -0.02215628]\n",
      " ...\n",
      " [ 0.         -0.04836104 -0.04286133 ... -0.17299065 -0.09181827\n",
      "  -0.02215628]\n",
      " [ 0.         -0.04836104 -0.04286133 ... -0.17299065 -0.09181827\n",
      "  -0.02215628]\n",
      " [ 0.         -0.04836104 -0.04286133 ... -0.17299065 -0.09181827\n",
      "  -0.02215628]]\n"
     ]
    }
   ],
   "source": [
    "import os\n",
    "import pandas as pd\n",
    "import numpy as np\n",
    "import matplotlib.pyplot as plt\n",
    "from sklearn.cluster import AgglomerativeClustering\n",
    "from sklearn.preprocessing import StandardScaler\n",
    "\n",
    "def read_data_from_csv(path):\n",
    "    \"\"\"Load datasets from CSV files.\n",
    "    Args:\n",
    "        path (str): Path to the CSV file.\n",
    "    Returns:\n",
    "        X (np.ndarray): Features of samples.\n",
    "    \"\"\"\n",
    "    assert os.path.exists(path), f'File not found: {path}!'\n",
    "    assert os.path.splitext(path)[-1] == '.csv', f'Unsupported file type {os.path.splitext(path)[-1]}!'\n",
    "\n",
    "    data = pd.read_csv(path)\n",
    "    X = data.values\n",
    "    return X\n",
    "\n",
    "# Load the data\n",
    "X_public = read_data_from_csv('assignment_4_public.csv')\n",
    "\n",
    "# Standardize the data\n",
    "scaler = StandardScaler()\n",
    "X_public = scaler.fit_transform(X_public)\n",
    "\n",
    "print(X_public)\n"
   ]
  },
  {
   "cell_type": "code",
   "execution_count": 3,
   "id": "fc9c9f9d",
   "metadata": {},
   "outputs": [],
   "source": [
    "from scipy.cluster.hierarchy import dendrogram, linkage"
   ]
  },
  {
   "cell_type": "code",
   "execution_count": 4,
   "id": "12286794",
   "metadata": {},
   "outputs": [
    {
     "name": "stderr",
     "output_type": "stream",
     "text": [
      "/Users/mgl/opt/anaconda3/lib/python3.9/site-packages/sklearn/utils/extmath.py:192: RuntimeWarning: invalid value encountered in matmul\n",
      "  ret = a @ b\n",
      "/Users/mgl/opt/anaconda3/lib/python3.9/site-packages/sklearn/utils/extmath.py:192: RuntimeWarning: invalid value encountered in matmul\n",
      "  ret = a @ b\n",
      "/Users/mgl/opt/anaconda3/lib/python3.9/site-packages/sklearn/utils/extmath.py:192: RuntimeWarning: invalid value encountered in matmul\n",
      "  ret = a @ b\n",
      "/Users/mgl/opt/anaconda3/lib/python3.9/site-packages/sklearn/utils/extmath.py:192: RuntimeWarning: invalid value encountered in matmul\n",
      "  ret = a @ b\n",
      "/Users/mgl/opt/anaconda3/lib/python3.9/site-packages/sklearn/utils/extmath.py:192: RuntimeWarning: invalid value encountered in matmul\n",
      "  ret = a @ b\n",
      "/Users/mgl/opt/anaconda3/lib/python3.9/site-packages/sklearn/utils/extmath.py:192: RuntimeWarning: invalid value encountered in matmul\n",
      "  ret = a @ b\n",
      "/Users/mgl/opt/anaconda3/lib/python3.9/site-packages/sklearn/utils/extmath.py:192: RuntimeWarning: invalid value encountered in matmul\n",
      "  ret = a @ b\n",
      "/Users/mgl/opt/anaconda3/lib/python3.9/site-packages/sklearn/utils/extmath.py:192: RuntimeWarning: invalid value encountered in matmul\n",
      "  ret = a @ b\n"
     ]
    },
    {
     "name": "stdout",
     "output_type": "stream",
     "text": [
      "Optimal number of clusters: 3\n"
     ]
    },
    {
     "name": "stderr",
     "output_type": "stream",
     "text": [
      "/Users/mgl/opt/anaconda3/lib/python3.9/site-packages/sklearn/utils/extmath.py:192: RuntimeWarning: invalid value encountered in matmul\n",
      "  ret = a @ b\n"
     ]
    }
   ],
   "source": [
    "best_silhouette_score = -1\n",
    "best_n_clusters = 2  # Start with a minimum of 2 clusters\n",
    "\n",
    "\n",
    "for n_clusters in range(2, 11):  # Try different numbers of clusters\n",
    "    agg_clustering = AgglomerativeClustering(n_clusters=n_clusters, linkage='ward')\n",
    "    agg_labels = agg_clustering.fit_predict(X_public)\n",
    "    silhouette_avg = silhouette_score(X_public, agg_labels)\n",
    "    \n",
    "    if silhouette_avg > best_silhouette_score:\n",
    "        best_silhouette_score = silhouette_avg\n",
    "        best_n_clusters = n_clusters\n",
    "\n",
    "print(\"Optimal number of clusters:\", best_n_clusters)"
   ]
  },
  {
   "cell_type": "code",
   "execution_count": 2,
   "id": "72c597d1",
   "metadata": {},
   "outputs": [
    {
     "name": "stderr",
     "output_type": "stream",
     "text": [
      "/Users/mgl/opt/anaconda3/lib/python3.9/site-packages/sklearn/utils/extmath.py:192: RuntimeWarning: invalid value encountered in matmul\n",
      "  ret = a @ b\n",
      "/Users/mgl/opt/anaconda3/lib/python3.9/site-packages/sklearn/utils/extmath.py:192: RuntimeWarning: invalid value encountered in matmul\n",
      "  ret = a @ b\n",
      "/Users/mgl/opt/anaconda3/lib/python3.9/site-packages/sklearn/utils/extmath.py:192: RuntimeWarning: invalid value encountered in matmul\n",
      "  ret = a @ b\n",
      "/Users/mgl/opt/anaconda3/lib/python3.9/site-packages/sklearn/utils/extmath.py:192: RuntimeWarning: invalid value encountered in matmul\n",
      "  ret = a @ b\n",
      "/Users/mgl/opt/anaconda3/lib/python3.9/site-packages/sklearn/utils/extmath.py:192: RuntimeWarning: invalid value encountered in matmul\n",
      "  ret = a @ b\n",
      "/Users/mgl/opt/anaconda3/lib/python3.9/site-packages/sklearn/utils/extmath.py:192: RuntimeWarning: invalid value encountered in matmul\n",
      "  ret = a @ b\n",
      "/Users/mgl/opt/anaconda3/lib/python3.9/site-packages/sklearn/utils/extmath.py:192: RuntimeWarning: invalid value encountered in matmul\n",
      "  ret = a @ b\n",
      "/Users/mgl/opt/anaconda3/lib/python3.9/site-packages/sklearn/utils/extmath.py:192: RuntimeWarning: invalid value encountered in matmul\n",
      "  ret = a @ b\n"
     ]
    },
    {
     "name": "stdout",
     "output_type": "stream",
     "text": [
      "Optimal number of clusters: 7\n"
     ]
    },
    {
     "name": "stderr",
     "output_type": "stream",
     "text": [
      "/Users/mgl/opt/anaconda3/lib/python3.9/site-packages/sklearn/utils/extmath.py:192: RuntimeWarning: invalid value encountered in matmul\n",
      "  ret = a @ b\n"
     ]
    }
   ],
   "source": [
    "from sklearn.cluster import AgglomerativeClustering\n",
    "from sklearn.metrics import pairwise_distances\n",
    "import numpy as np\n",
    "\n",
    "\n",
    "# Dunn Index\n",
    "def dunn_index(X, labels):\n",
    "    n_clusters = len(np.unique(labels))\n",
    "    cluster_distances = []\n",
    "    for cluster_label in range(n_clusters):\n",
    "        cluster_points = X[labels == cluster_label]\n",
    "        cluster_distances.append(pairwise_distances(cluster_points, cluster_points).max())\n",
    "    min_inter_cluster_distance = pairwise_distances(X, metric='euclidean').max()\n",
    "    dunn_index = min_inter_cluster_distance / max(cluster_distances)\n",
    "    return dunn_index\n",
    "\n",
    "\n",
    "# Determine the optimal number of clusters using the Dunn Index\n",
    "best_dunn_index = -1\n",
    "best_n_clusters = 2  # Start with a minimum of 1 clusters\n",
    "\n",
    "for n_clusters in range(2, 11):  # Try different numbers of clusters\n",
    "    agg_clustering = AgglomerativeClustering(n_clusters=n_clusters, linkage='ward')\n",
    "    clustering = agg_clustering.fit_predict(X_public)\n",
    "    current_dunn_index = dunn_index(X_public, clustering)\n",
    "    \n",
    "    if current_dunn_index > best_dunn_index:\n",
    "        best_dunn_index = current_dunn_index\n",
    "        best_n_clusters = n_clusters\n",
    "\n",
    "print(\"Optimal number of clusters:\", best_n_clusters)"
   ]
  },
  {
   "cell_type": "code",
   "execution_count": 10,
   "id": "7f32f640",
   "metadata": {},
   "outputs": [],
   "source": [
    "n_clusters = 7"
   ]
  },
  {
   "cell_type": "code",
   "execution_count": 3,
   "id": "ed589b28",
   "metadata": {},
   "outputs": [
    {
     "data": {
      "image/png": "[encoded data removed]",
      "text/plain": [
       "<Figure size 720x432 with 1 Axes>"
      ]
     },
     "metadata": {
      "needs_background": "light"
     },
     "output_type": "display_data"
    }
   ],
   "source": [
    "import matplotlib.pyplot as plt\n",
    "from sklearn.cluster import AgglomerativeClustering\n",
    "from sklearn.metrics import adjusted_rand_score\n",
    "from scipy.cluster.hierarchy import dendrogram, linkage\n",
    "\n",
    "# Perform hierarchical clustering with 7 clusters\n",
    "n_clusters = 7  # Change the number of clusters to 7\n",
    "agg_clustering = AgglomerativeClustering(n_clusters=n_clusters, linkage='ward')\n",
    "agg_labels = agg_clustering.fit_predict(X_public)\n",
    "\n",
    "# Create a dendrogram\n",
    "linked = linkage(X_public, 'ward')  # You can experiment with different linkage methods\n",
    "\n",
    "plt.figure(figsize=(10, 6))\n",
    "dendrogram(linked, orientation='top', distance_sort='descending', show_leaf_counts=True)\n",
    "plt.title('Dendrogram for Hierarchical Clustering with 7 Clusters')\n",
    "plt.xlabel('Sample Index')\n",
    "plt.ylabel('Distance')\n",
    "plt.show()"
   ]
  },
  {
   "cell_type": "code",
   "execution_count": 6,
   "id": "5c2ce2d3",
   "metadata": {},
   "outputs": [],
   "source": [
    "# Perform hierarchical clustering with the optimal number of clusters\n",
    "agg_clustering = AgglomerativeClustering(n_clusters=best_n_clusters, linkage='ward')\n",
    "preds = agg_clustering.fit_predict(X_public)\n"
   ]
  },
  {
   "cell_type": "code",
   "execution_count": 9,
   "id": "f1d4686c",
   "metadata": {},
   "outputs": [
    {
     "name": "stderr",
     "output_type": "stream",
     "text": [
      "/Users/mgl/opt/anaconda3/lib/python3.9/site-packages/sklearn/utils/extmath.py:192: RuntimeWarning: invalid value encountered in matmul\n",
      "  ret = a @ b\n"
     ]
    },
    {
     "name": "stdout",
     "output_type": "stream",
     "text": [
      "Davies-Bouldin Index: 2.352245933797236\n",
      "Silhouette Coefficient: 0.10493441663211335\n",
      "Dunn Index: 1.0247971912304306\n"
     ]
    },
    {
     "name": "stderr",
     "output_type": "stream",
     "text": [
      "/Users/mgl/opt/anaconda3/lib/python3.9/site-packages/sklearn/utils/extmath.py:192: RuntimeWarning: invalid value encountered in matmul\n",
      "  ret = a @ b\n"
     ]
    }
   ],
   "source": [
    "from sklearn.metrics import davies_bouldin_score, silhouette_score\n",
    "from sklearn.cluster import AgglomerativeClustering\n",
    "from sklearn.metrics import pairwise_distances\n",
    "import numpy as np\n",
    "\n",
    "# Perform hierarchical clustering with different numbers of clusters\n",
    "best_n_clusters = 7  # Replace with the determined optimal number of clusters\n",
    "agg_clustering = AgglomerativeClustering(n_clusters=best_n_clusters, linkage='ward')\n",
    "agg_labels = agg_clustering.fit_predict(X_public)\n",
    "\n",
    "# Evaluate the clustering using Davies-Bouldin Index, Dunn Index, and Silhouette Coefficient\n",
    "davies_bouldin = davies_bouldin_score(X_public, agg_labels)\n",
    "silhouette_avg = silhouette_score(X_public, agg_labels)\n",
    "\n",
    "# Dunn Index\n",
    "def dunn_index(X, labels):\n",
    "    n_clusters = len(np.unique(labels))\n",
    "    cluster_distances = []\n",
    "    for cluster_label in range(n_clusters):\n",
    "        cluster_points = X[labels == cluster_label]\n",
    "        cluster_distances.append(pairwise_distances(cluster_points, cluster_points).max())\n",
    "    min_inter_cluster_distance = pairwise_distances(X, metric='euclidean').max()\n",
    "    dunn_index = min_inter_cluster_distance / max(cluster_distances)\n",
    "    return dunn_index\n",
    "\n",
    "dunn = dunn_index(X_public, agg_labels)\n",
    "\n",
    "print(\"Davies-Bouldin Index:\", davies_bouldin)\n",
    "print(\"Silhouette Coefficient:\", silhouette_avg)\n",
    "print(\"Dunn Index:\", dunn)\n"
   ]
  },
  {
   "cell_type": "code",
   "execution_count": 32,
   "id": "b2938927",
   "metadata": {},
   "outputs": [],
   "source": [
    "preds = agg_clustering.fit_predict(X_public)"
   ]
  },
  {
   "cell_type": "code",
   "execution_count": 5,
   "id": "9b8caa84",
   "metadata": {},
   "outputs": [
    {
     "name": "stderr",
     "output_type": "stream",
     "text": [
      "/Users/mgl/opt/anaconda3/lib/python3.9/site-packages/sklearn/utils/extmath.py:192: RuntimeWarning: invalid value encountered in matmul\n",
      "  ret = a @ b\n",
      "/Users/mgl/opt/anaconda3/lib/python3.9/site-packages/sklearn/utils/extmath.py:192: RuntimeWarning: invalid value encountered in matmul\n",
      "  ret = a @ b\n"
     ]
    },
    {
     "name": "stdout",
     "output_type": "stream",
     "text": [
      "Davies-Bouldin Index: 1.236137954467469\n",
      "Silhouette Coefficient: 0.34199001522061495\n",
      "Dunn Index: 1.5303394483057953\n"
     ]
    },
    {
     "name": "stderr",
     "output_type": "stream",
     "text": [
      "/Users/mgl/opt/anaconda3/lib/python3.9/site-packages/sklearn/utils/extmath.py:192: RuntimeWarning: invalid value encountered in matmul\n",
      "  ret = a @ b\n"
     ]
    }
   ],
   "source": [
    "# Perform hierarchical clustering with different numbers of clusters\n",
    "best_n_clusters = 7  # Replace with the determined optimal number of clusters\n",
    "agg_clustering = AgglomerativeClustering(n_clusters=best_n_clusters, linkage='complete')\n",
    "agg_labels = agg_clustering.fit_predict(X_public)\n",
    "\n",
    "# Evaluate the clustering using Davies-Bouldin Index, Dunn Index, and Silhouette Coefficient\n",
    "davies_bouldin = davies_bouldin_score(X_public, agg_labels)\n",
    "silhouette_avg = silhouette_score(X_public, agg_labels)\n",
    "\n",
    "# Dunn Index\n",
    "def dunn_index(X, labels):\n",
    "    n_clusters = len(np.unique(labels))\n",
    "    cluster_distances = []\n",
    "    for cluster_label in range(n_clusters):\n",
    "        cluster_points = X[labels == cluster_label]\n",
    "        cluster_distances.append(pairwise_distances(cluster_points, cluster_points).max())\n",
    "    min_inter_cluster_distance = pairwise_distances(X, metric='euclidean').max()\n",
    "    dunn_index = min_inter_cluster_distance / max(cluster_distances)\n",
    "    return dunn_index\n",
    "\n",
    "dunn = dunn_index(X_public, agg_labels)\n",
    "\n",
    "print(\"Davies-Bouldin Index:\", davies_bouldin)\n",
    "print(\"Silhouette Coefficient:\", silhouette_avg)\n",
    "print(\"Dunn Index:\", dunn)"
   ]
  },
  {
   "cell_type": "code",
   "execution_count": 7,
   "id": "d337a5f8",
   "metadata": {},
   "outputs": [
    {
     "name": "stderr",
     "output_type": "stream",
     "text": [
      "/Users/mgl/opt/anaconda3/lib/python3.9/site-packages/sklearn/utils/extmath.py:192: RuntimeWarning: invalid value encountered in matmul\n",
      "  ret = a @ b\n",
      "/Users/mgl/opt/anaconda3/lib/python3.9/site-packages/sklearn/utils/extmath.py:192: RuntimeWarning: invalid value encountered in matmul\n",
      "  ret = a @ b\n"
     ]
    },
    {
     "name": "stdout",
     "output_type": "stream",
     "text": [
      "Davies-Bouldin Index: 0.28997495962791126\n",
      "Silhouette Coefficient: 0.5483120574074286\n",
      "Dunn Index: 1.3649377458486494\n"
     ]
    },
    {
     "name": "stderr",
     "output_type": "stream",
     "text": [
      "/Users/mgl/opt/anaconda3/lib/python3.9/site-packages/sklearn/utils/extmath.py:192: RuntimeWarning: invalid value encountered in matmul\n",
      "  ret = a @ b\n"
     ]
    }
   ],
   "source": [
    "# Perform hierarchical clustering with different numbers of clusters\n",
    "best_n_clusters = 7  # Replace with the determined optimal number of clusters\n",
    "agg_clustering = AgglomerativeClustering(n_clusters=best_n_clusters, linkage='average')\n",
    "agg_labels = agg_clustering.fit_predict(X_public)\n",
    "\n",
    "# Evaluate the clustering using Davies-Bouldin Index, Dunn Index, and Silhouette Coefficient\n",
    "davies_bouldin = davies_bouldin_score(X_public, agg_labels)\n",
    "silhouette_avg = silhouette_score(X_public, agg_labels)\n",
    "\n",
    "# Dunn Index\n",
    "def dunn_index(X, labels):\n",
    "    n_clusters = len(np.unique(labels))\n",
    "    cluster_distances = []\n",
    "    for cluster_label in range(n_clusters):\n",
    "        cluster_points = X[labels == cluster_label]\n",
    "        cluster_distances.append(pairwise_distances(cluster_points, cluster_points).max())\n",
    "    min_inter_cluster_distance = pairwise_distances(X, metric='euclidean').max()\n",
    "    dunn_index = min_inter_cluster_distance / max(cluster_distances)\n",
    "    return dunn_index\n",
    "\n",
    "dunn = dunn_index(X_public, agg_labels)\n",
    "preds=agg_labels\n",
    "\n",
    "print(\"Davies-Bouldin Index:\", davies_bouldin)\n",
    "print(\"Silhouette Coefficient:\", silhouette_avg)\n",
    "print(\"Dunn Index:\", dunn)"
   ]
  },
  {
   "cell_type": "code",
   "execution_count": 39,
   "id": "02e00ac9",
   "metadata": {},
   "outputs": [
    {
     "name": "stdout",
     "output_type": "stream",
     "text": [
      "Saved the example image to output_images/example_image.png\n"
     ]
    }
   ],
   "source": [
    "import os\n",
    "import pandas as pd\n",
    "import numpy as np\n",
    "from PIL import Image\n",
    "\n",
    "# Load the CSV data\n",
    "data = pd.read_csv('assignment_4_public.csv')\n",
    "\n",
    "# Select the first row as an example\n",
    "image_data = data.iloc[0].values\n",
    "\n",
    "# Reshape the data to match the image dimensions (28x28 pixels)\n",
    "image_size = 28\n",
    "image_data = image_data.reshape(image_size, image_size)\n",
    "\n",
    "# Normalize pixel values (assuming they are in the range 0-255)\n",
    "image_data = image_data / 255.0\n",
    "\n",
    "# Create and save the image\n",
    "output_directory = 'output_images'\n",
    "\n",
    "# Create the output directory if it doesn't exist\n",
    "os.makedirs(output_directory, exist_ok=True)\n",
    "\n",
    "image = Image.fromarray((image_data * 255).astype('uint8'), mode='L')\n",
    "image.save(os.path.join(output_directory, 'example_image.png'))\n",
    "\n",
    "print('Saved the example image to', os.path.join(output_directory, 'example_image.png'))\n"
   ]
  },
  {
   "cell_type": "code",
   "execution_count": 38,
   "id": "824469db",
   "metadata": {},
   "outputs": [
    {
     "name": "stdout",
     "output_type": "stream",
     "text": [
      "Saved the example image to output_images/example_image.png\n"
     ]
    }
   ],
   "source": [
    "import os\n",
    "import pandas as pd\n",
    "import numpy as np\n",
    "from PIL import Image\n",
    "\n",
    "# Load the CSV data\n",
    "data = pd.read_csv('assignment_4_public.csv')\n",
    "\n",
    "# Select the first row as an example\n",
    "image_data = data.iloc[11].values\n",
    "\n",
    "# Reshape the data to match the image dimensions (28x28 pixels)\n",
    "image_size = 28\n",
    "image_data = image_data.reshape(image_size, image_size)\n",
    "\n",
    "# Normalize pixel values (assuming they are in the range 0-255)\n",
    "image_data = image_data / 255.0\n",
    "\n",
    "# Create and save the image\n",
    "output_directory = 'output_images'\n",
    "\n",
    "# Create the output directory if it doesn't exist\n",
    "os.makedirs(output_directory, exist_ok=True)\n",
    "\n",
    "image = Image.fromarray((image_data * 255).astype('uint8'), mode='L')\n",
    "image.save(os.path.join(output_directory, 'example_image1.png'))\n",
    "\n",
    "print('Saved the example image to', os.path.join(output_directory, 'example_image1.png'))\n"
   ]
  },
  {
   "cell_type": "code",
   "execution_count": 11,
   "id": "6c443682",
   "metadata": {},
   "outputs": [
    {
     "name": "stdout",
     "output_type": "stream",
     "text": [
      "Saved the example image to output_images/example_image0.png\n"
     ]
    }
   ],
   "source": [
    "import os\n",
    "import pandas as pd\n",
    "import numpy as np\n",
    "from PIL import Image\n",
    "\n",
    "# Load the CSV data\n",
    "data = pd.read_csv('assignment_4_public.csv')\n",
    "\n",
    "# Select the first row as an example\n",
    "image_data = data.iloc[0].values\n",
    "\n",
    "# Reshape the data to match the image dimensions (28x28 pixels)\n",
    "image_size = 28\n",
    "image_data = image_data.reshape(image_size, image_size)\n",
    "\n",
    "# Normalize pixel values (assuming they are in the range 0-255)\n",
    "image_data = image_data / 255.0\n",
    "\n",
    "# Create and save the image\n",
    "output_directory = 'output_images'\n",
    "\n",
    "# Create the output directory if it doesn't exist\n",
    "os.makedirs(output_directory, exist_ok=True)\n",
    "\n",
    "image = Image.fromarray((image_data * 255).astype('uint8'), mode='L')\n",
    "image.save(os.path.join(output_directory, 'example_image0.png'))\n",
    "\n",
    "print('Saved the example image to', os.path.join(output_directory, 'example_image0.png'))\n"
   ]
  },
  {
   "cell_type": "code",
   "execution_count": 13,
   "id": "8375a5bd",
   "metadata": {},
   "outputs": [
    {
     "name": "stdout",
     "output_type": "stream",
     "text": [
      "Saved the example image to output_images/example_image5.png\n"
     ]
    }
   ],
   "source": [
    "import os\n",
    "import pandas as pd\n",
    "import numpy as np\n",
    "from PIL import Image\n",
    "\n",
    "# Load the CSV data\n",
    "data = pd.read_csv('assignment_4_public.csv')\n",
    "\n",
    "# Select the first row as an example\n",
    "image_data = data.iloc[23].values\n",
    "\n",
    "# Reshape the data to match the image dimensions (28x28 pixels)\n",
    "image_size = 28\n",
    "image_data = image_data.reshape(image_size, image_size)\n",
    "\n",
    "# Normalize pixel values (assuming they are in the range 0-255)\n",
    "image_data = image_data / 255.0\n",
    "\n",
    "# Create and save the image\n",
    "output_directory = 'output_images'\n",
    "\n",
    "# Create the output directory if it doesn't exist\n",
    "os.makedirs(output_directory, exist_ok=True)\n",
    "\n",
    "image = Image.fromarray((image_data * 255).astype('uint8'), mode='L')\n",
    "image.save(os.path.join(output_directory, 'example_image23.png'))\n",
    "\n",
    "print('Saved the example image to', os.path.join(output_directory, 'example_image5.png'))\n"
   ]
  },
  {
   "cell_type": "code",
   "execution_count": 8,
   "id": "198b4c7d",
   "metadata": {},
   "outputs": [
    {
     "name": "stdout",
     "output_type": "stream",
     "text": [
      "Saved the example image to output_images/example_image4.png\n"
     ]
    }
   ],
   "source": [
    "import os\n",
    "import pandas as pd\n",
    "import numpy as np\n",
    "from PIL import Image\n",
    "\n",
    "# Load the CSV data\n",
    "data = pd.read_csv('assignment_4_public.csv')\n",
    "\n",
    "# Select the first row as an example\n",
    "image_data = data.iloc[4].values\n",
    "\n",
    "# Reshape the data to match the image dimensions (28x28 pixels)\n",
    "image_size = 28\n",
    "image_data = image_data.reshape(image_size, image_size)\n",
    "\n",
    "# Normalize pixel values (assuming they are in the range 0-255)\n",
    "image_data = image_data / 255.0\n",
    "\n",
    "# Create and save the image\n",
    "output_directory = 'output_images'\n",
    "\n",
    "# Create the output directory if it doesn't exist\n",
    "os.makedirs(output_directory, exist_ok=True)\n",
    "\n",
    "image = Image.fromarray((image_data * 255).astype('uint8'), mode='L')\n",
    "image.save(os.path.join(output_directory, 'example_image4.png'))\n",
    "\n",
    "print('Saved the example image to', os.path.join(output_directory, 'example_image4.png'))\n"
   ]
  },
  {
   "cell_type": "code",
   "execution_count": 3,
   "id": "e771cff4",
   "metadata": {},
   "outputs": [
    {
     "name": "stderr",
     "output_type": "stream",
     "text": [
      "/Users/mgl/opt/anaconda3/lib/python3.9/site-packages/sklearn/cluster/_kmeans.py:1416: FutureWarning: The default value of `n_init` will change from 10 to 'auto' in 1.4. Set the value of `n_init` explicitly to suppress the warning\n",
      "  super()._check_params_vs_input(X, default_n_init=10)\n",
      "/Users/mgl/opt/anaconda3/lib/python3.9/site-packages/sklearn/utils/extmath.py:192: RuntimeWarning: invalid value encountered in matmul\n",
      "  ret = a @ b\n",
      "/Users/mgl/opt/anaconda3/lib/python3.9/site-packages/sklearn/cluster/_kmeans.py:1416: FutureWarning: The default value of `n_init` will change from 10 to 'auto' in 1.4. Set the value of `n_init` explicitly to suppress the warning\n",
      "  super()._check_params_vs_input(X, default_n_init=10)\n",
      "/Users/mgl/opt/anaconda3/lib/python3.9/site-packages/sklearn/utils/extmath.py:192: RuntimeWarning: invalid value encountered in matmul\n",
      "  ret = a @ b\n",
      "/Users/mgl/opt/anaconda3/lib/python3.9/site-packages/sklearn/cluster/_kmeans.py:1416: FutureWarning: The default value of `n_init` will change from 10 to 'auto' in 1.4. Set the value of `n_init` explicitly to suppress the warning\n",
      "  super()._check_params_vs_input(X, default_n_init=10)\n",
      "/Users/mgl/opt/anaconda3/lib/python3.9/site-packages/sklearn/utils/extmath.py:192: RuntimeWarning: invalid value encountered in matmul\n",
      "  ret = a @ b\n",
      "/Users/mgl/opt/anaconda3/lib/python3.9/site-packages/sklearn/cluster/_kmeans.py:1416: FutureWarning: The default value of `n_init` will change from 10 to 'auto' in 1.4. Set the value of `n_init` explicitly to suppress the warning\n",
      "  super()._check_params_vs_input(X, default_n_init=10)\n",
      "/Users/mgl/opt/anaconda3/lib/python3.9/site-packages/sklearn/utils/extmath.py:192: RuntimeWarning: invalid value encountered in matmul\n",
      "  ret = a @ b\n",
      "/Users/mgl/opt/anaconda3/lib/python3.9/site-packages/sklearn/cluster/_kmeans.py:1416: FutureWarning: The default value of `n_init` will change from 10 to 'auto' in 1.4. Set the value of `n_init` explicitly to suppress the warning\n",
      "  super()._check_params_vs_input(X, default_n_init=10)\n",
      "/Users/mgl/opt/anaconda3/lib/python3.9/site-packages/sklearn/utils/extmath.py:192: RuntimeWarning: invalid value encountered in matmul\n",
      "  ret = a @ b\n",
      "/Users/mgl/opt/anaconda3/lib/python3.9/site-packages/sklearn/cluster/_kmeans.py:1416: FutureWarning: The default value of `n_init` will change from 10 to 'auto' in 1.4. Set the value of `n_init` explicitly to suppress the warning\n",
      "  super()._check_params_vs_input(X, default_n_init=10)\n",
      "/Users/mgl/opt/anaconda3/lib/python3.9/site-packages/sklearn/utils/extmath.py:192: RuntimeWarning: invalid value encountered in matmul\n",
      "  ret = a @ b\n",
      "/Users/mgl/opt/anaconda3/lib/python3.9/site-packages/sklearn/cluster/_kmeans.py:1416: FutureWarning: The default value of `n_init` will change from 10 to 'auto' in 1.4. Set the value of `n_init` explicitly to suppress the warning\n",
      "  super()._check_params_vs_input(X, default_n_init=10)\n",
      "/Users/mgl/opt/anaconda3/lib/python3.9/site-packages/sklearn/utils/extmath.py:192: RuntimeWarning: invalid value encountered in matmul\n",
      "  ret = a @ b\n",
      "/Users/mgl/opt/anaconda3/lib/python3.9/site-packages/sklearn/cluster/_kmeans.py:1416: FutureWarning: The default value of `n_init` will change from 10 to 'auto' in 1.4. Set the value of `n_init` explicitly to suppress the warning\n",
      "  super()._check_params_vs_input(X, default_n_init=10)\n",
      "/Users/mgl/opt/anaconda3/lib/python3.9/site-packages/sklearn/utils/extmath.py:192: RuntimeWarning: invalid value encountered in matmul\n",
      "  ret = a @ b\n",
      "/Users/mgl/opt/anaconda3/lib/python3.9/site-packages/sklearn/cluster/_kmeans.py:1416: FutureWarning: The default value of `n_init` will change from 10 to 'auto' in 1.4. Set the value of `n_init` explicitly to suppress the warning\n",
      "  super()._check_params_vs_input(X, default_n_init=10)\n"
     ]
    },
    {
     "name": "stdout",
     "output_type": "stream",
     "text": [
      "Optimal number of clusters: 2\n"
     ]
    },
    {
     "name": "stderr",
     "output_type": "stream",
     "text": [
      "/Users/mgl/opt/anaconda3/lib/python3.9/site-packages/sklearn/utils/extmath.py:192: RuntimeWarning: invalid value encountered in matmul\n",
      "  ret = a @ b\n"
     ]
    }
   ],
   "source": [
    "import os\n",
    "import pandas as pd\n",
    "import numpy as np\n",
    "from sklearn.cluster import KMeans\n",
    "from sklearn.preprocessing import StandardScaler\n",
    "from sklearn.metrics import davies_bouldin_score, silhouette_score\n",
    "\n",
    "# Load the training data (public dataset)\n",
    "def read_data_from_csv(path):\n",
    "    assert os.path.exists(path), f'File not found: {path}!'\n",
    "    assert os.path.splitext(path)[-1] == '.csv', f'Unsupported file type {os.path.splitext(path)[-1]}!'\n",
    "    data = pd.read_csv(path)\n",
    "    X = data.values  # Assuming each row represents an image (28x28 pixels)\n",
    "    return X\n",
    "\n",
    "X_public = read_data_from_csv('assignment_4_public.csv')\n",
    "\n",
    "# Standardize the data\n",
    "scaler = StandardScaler()\n",
    "X_public = scaler.fit_transform(X_public)\n",
    "# Try different numbers of clusters\n",
    "n_clusters_list = range(2, 11)\n",
    "silhouette_scores = []\n",
    "clusterings = []\n",
    "\n",
    "# Perform K-Means clustering for each number of clusters\n",
    "for n_clusters in n_clusters_list:\n",
    "    kmeans = KMeans(n_clusters=n_clusters, random_state=1)\n",
    "    clustering = kmeans.fit_predict(X_public)\n",
    "    clusterings.append(clustering)\n",
    "    silhouette_avg = silhouette_score(X_public, clustering)\n",
    "    silhouette_scores.append(silhouette_avg)\n",
    "\n",
    "# Find the optimal number of clusters\n",
    "optimal_n_clusters = n_clusters_list[np.argmax(silhouette_scores)]\n",
    "print(\"Optimal number of clusters:\", optimal_n_clusters)"
   ]
  },
  {
   "cell_type": "code",
   "execution_count": 5,
   "id": "db2e9f11",
   "metadata": {},
   "outputs": [
    {
     "name": "stderr",
     "output_type": "stream",
     "text": [
      "/Users/mgl/opt/anaconda3/lib/python3.9/site-packages/sklearn/utils/extmath.py:192: RuntimeWarning: invalid value encountered in matmul\n",
      "  ret = a @ b\n"
     ]
    },
    {
     "name": "stdout",
     "output_type": "stream",
     "text": [
      "Davies-Bouldin Index: 2.165267395340117\n",
      "Silhouette Coefficient: 0.10559236545878302\n",
      "Dunn Index: 1.1216344942313576\n"
     ]
    },
    {
     "name": "stderr",
     "output_type": "stream",
     "text": [
      "/Users/mgl/opt/anaconda3/lib/python3.9/site-packages/sklearn/utils/extmath.py:192: RuntimeWarning: invalid value encountered in matmul\n",
      "  ret = a @ b\n"
     ]
    }
   ],
   "source": [
    "from sklearn.metrics import davies_bouldin_score, silhouette_score\n",
    "from sklearn.cluster import AgglomerativeClustering\n",
    "from sklearn.metrics import pairwise_distances\n",
    "import numpy as np\n",
    "\n",
    "# Evaluate the clustering using Davies-Bouldin Index, Dunn Index, and Silhouette Coefficient\n",
    "davies_bouldin = davies_bouldin_score(X_public, cluster_labels)\n",
    "silhouette_avg = silhouette_score(X_public, cluster_labels)\n",
    "\n",
    "# Dunn Index\n",
    "def dunn_index(X, labels):\n",
    "    n_clusters = len(np.unique(labels))\n",
    "    cluster_distances = []\n",
    "    for cluster_label in range(n_clusters):\n",
    "        cluster_points = X[labels == cluster_label]\n",
    "        cluster_distances.append(pairwise_distances(cluster_points, cluster_points).max())\n",
    "    min_inter_cluster_distance = pairwise_distances(X, metric='euclidean').max()\n",
    "    dunn_index = min_inter_cluster_distance / max(cluster_distances)\n",
    "    return dunn_index\n",
    "\n",
    "dunn = dunn_index(X_public, cluster_labels)\n",
    "\n",
    "print(\"Davies-Bouldin Index:\", davies_bouldin)\n",
    "print(\"Silhouette Coefficient:\", silhouette_avg)\n",
    "print(\"Dunn Index:\", dunn)"
   ]
  },
  {
   "cell_type": "code",
   "execution_count": 13,
   "id": "722621a4",
   "metadata": {},
   "outputs": [],
   "source": [
    "submission = pd.DataFrame({'Label': preds})\n",
    "submission.to_csv('assignment_4.csv', index=True, index_label='Id')"
   ]
  },
  {
   "cell_type": "code",
   "execution_count": 12,
   "id": "abd6a2e4",
   "metadata": {},
   "outputs": [],
   "source": [
    "#however although the Davies-Bouldin Index: 0.23134909296592285\n",
    "#Silhouette Coefficient: 0.6661107920453977\n",
    "#Dunn Index: 1.2181738978671293  seems better than other but the result only 0,so we choose K means"
   ]
  },
  {
   "cell_type": "code",
   "execution_count": 12,
   "id": "968de2d5",
   "metadata": {},
   "outputs": [
    {
     "name": "stderr",
     "output_type": "stream",
     "text": [
      "/Users/mgl/opt/anaconda3/lib/python3.9/site-packages/sklearn/cluster/_kmeans.py:1416: FutureWarning: The default value of `n_init` will change from 10 to 'auto' in 1.4. Set the value of `n_init` explicitly to suppress the warning\n",
      "  super()._check_params_vs_input(X, default_n_init=10)\n"
     ]
    }
   ],
   "source": [
    "\n",
    "kmeans = KMeans(n_clusters=4)\n",
    "kmeans.fit(X_public)\n",
    "preds=kmeans.labels_"
   ]
  },
  {
   "cell_type": "code",
   "execution_count": 14,
   "id": "ef479e4b",
   "metadata": {},
   "outputs": [
    {
     "name": "stderr",
     "output_type": "stream",
     "text": [
      "/Users/mgl/opt/anaconda3/lib/python3.9/site-packages/sklearn/cluster/_kmeans.py:1416: FutureWarning: The default value of `n_init` will change from 10 to 'auto' in 1.4. Set the value of `n_init` explicitly to suppress the warning\n",
      "  super()._check_params_vs_input(X, default_n_init=10)\n",
      "/Users/mgl/opt/anaconda3/lib/python3.9/site-packages/sklearn/cluster/_kmeans.py:1416: FutureWarning: The default value of `n_init` will change from 10 to 'auto' in 1.4. Set the value of `n_init` explicitly to suppress the warning\n",
      "  super()._check_params_vs_input(X, default_n_init=10)\n",
      "/Users/mgl/opt/anaconda3/lib/python3.9/site-packages/sklearn/cluster/_kmeans.py:1416: FutureWarning: The default value of `n_init` will change from 10 to 'auto' in 1.4. Set the value of `n_init` explicitly to suppress the warning\n",
      "  super()._check_params_vs_input(X, default_n_init=10)\n",
      "/Users/mgl/opt/anaconda3/lib/python3.9/site-packages/sklearn/cluster/_kmeans.py:1416: FutureWarning: The default value of `n_init` will change from 10 to 'auto' in 1.4. Set the value of `n_init` explicitly to suppress the warning\n",
      "  super()._check_params_vs_input(X, default_n_init=10)\n",
      "/Users/mgl/opt/anaconda3/lib/python3.9/site-packages/sklearn/cluster/_kmeans.py:1416: FutureWarning: The default value of `n_init` will change from 10 to 'auto' in 1.4. Set the value of `n_init` explicitly to suppress the warning\n",
      "  super()._check_params_vs_input(X, default_n_init=10)\n",
      "/Users/mgl/opt/anaconda3/lib/python3.9/site-packages/sklearn/cluster/_kmeans.py:1416: FutureWarning: The default value of `n_init` will change from 10 to 'auto' in 1.4. Set the value of `n_init` explicitly to suppress the warning\n",
      "  super()._check_params_vs_input(X, default_n_init=10)\n",
      "/Users/mgl/opt/anaconda3/lib/python3.9/site-packages/sklearn/cluster/_kmeans.py:1416: FutureWarning: The default value of `n_init` will change from 10 to 'auto' in 1.4. Set the value of `n_init` explicitly to suppress the warning\n",
      "  super()._check_params_vs_input(X, default_n_init=10)\n",
      "/Users/mgl/opt/anaconda3/lib/python3.9/site-packages/sklearn/cluster/_kmeans.py:1416: FutureWarning: The default value of `n_init` will change from 10 to 'auto' in 1.4. Set the value of `n_init` explicitly to suppress the warning\n",
      "  super()._check_params_vs_input(X, default_n_init=10)\n"
     ]
    },
    {
     "name": "stdout",
     "output_type": "stream",
     "text": [
      "Optimal number of clusters: 4\n"
     ]
    }
   ],
   "source": [
    "from sklearn.cluster import KMeans\n",
    "from sklearn.preprocessing import StandardScaler\n",
    "from sklearn.metrics import davies_bouldin_score, silhouette_score\n",
    "\n",
    "\n",
    "db_scores = []\n",
    "K = range(2, 10)\n",
    "for k in K:\n",
    "    kmeanModel = KMeans(n_clusters=k)\n",
    "    labels = kmeanModel.fit_predict(X_public)\n",
    "    db_score = davies_bouldin_score(X_public, labels)\n",
    "    db_scores.append(db_score)\n",
    "\n",
    "# Find the optimal number of clusters\n",
    "optimal_n_clusters = K[db_scores.index(min(db_scores))]\n",
    "print(\"Optimal number of clusters:\", optimal_n_clusters)\n"
   ]
  },
  {
   "cell_type": "code",
   "execution_count": 2,
   "id": "90399733",
   "metadata": {},
   "outputs": [
    {
     "name": "stderr",
     "output_type": "stream",
     "text": [
      "/Users/mgl/opt/anaconda3/lib/python3.9/site-packages/sklearn/cluster/_kmeans.py:1416: FutureWarning: The default value of `n_init` will change from 10 to 'auto' in 1.4. Set the value of `n_init` explicitly to suppress the warning\n",
      "  super()._check_params_vs_input(X, default_n_init=10)\n",
      "/Users/mgl/opt/anaconda3/lib/python3.9/site-packages/sklearn/utils/extmath.py:192: RuntimeWarning: invalid value encountered in matmul\n",
      "  ret = a @ b\n",
      "/Users/mgl/opt/anaconda3/lib/python3.9/site-packages/sklearn/cluster/_kmeans.py:1416: FutureWarning: The default value of `n_init` will change from 10 to 'auto' in 1.4. Set the value of `n_init` explicitly to suppress the warning\n",
      "  super()._check_params_vs_input(X, default_n_init=10)\n",
      "/Users/mgl/opt/anaconda3/lib/python3.9/site-packages/sklearn/utils/extmath.py:192: RuntimeWarning: invalid value encountered in matmul\n",
      "  ret = a @ b\n",
      "/Users/mgl/opt/anaconda3/lib/python3.9/site-packages/sklearn/cluster/_kmeans.py:1416: FutureWarning: The default value of `n_init` will change from 10 to 'auto' in 1.4. Set the value of `n_init` explicitly to suppress the warning\n",
      "  super()._check_params_vs_input(X, default_n_init=10)\n",
      "/Users/mgl/opt/anaconda3/lib/python3.9/site-packages/sklearn/utils/extmath.py:192: RuntimeWarning: invalid value encountered in matmul\n",
      "  ret = a @ b\n",
      "/Users/mgl/opt/anaconda3/lib/python3.9/site-packages/sklearn/cluster/_kmeans.py:1416: FutureWarning: The default value of `n_init` will change from 10 to 'auto' in 1.4. Set the value of `n_init` explicitly to suppress the warning\n",
      "  super()._check_params_vs_input(X, default_n_init=10)\n",
      "/Users/mgl/opt/anaconda3/lib/python3.9/site-packages/sklearn/utils/extmath.py:192: RuntimeWarning: invalid value encountered in matmul\n",
      "  ret = a @ b\n",
      "/Users/mgl/opt/anaconda3/lib/python3.9/site-packages/sklearn/cluster/_kmeans.py:1416: FutureWarning: The default value of `n_init` will change from 10 to 'auto' in 1.4. Set the value of `n_init` explicitly to suppress the warning\n",
      "  super()._check_params_vs_input(X, default_n_init=10)\n",
      "/Users/mgl/opt/anaconda3/lib/python3.9/site-packages/sklearn/utils/extmath.py:192: RuntimeWarning: invalid value encountered in matmul\n",
      "  ret = a @ b\n",
      "/Users/mgl/opt/anaconda3/lib/python3.9/site-packages/sklearn/cluster/_kmeans.py:1416: FutureWarning: The default value of `n_init` will change from 10 to 'auto' in 1.4. Set the value of `n_init` explicitly to suppress the warning\n",
      "  super()._check_params_vs_input(X, default_n_init=10)\n",
      "/Users/mgl/opt/anaconda3/lib/python3.9/site-packages/sklearn/utils/extmath.py:192: RuntimeWarning: invalid value encountered in matmul\n",
      "  ret = a @ b\n",
      "/Users/mgl/opt/anaconda3/lib/python3.9/site-packages/sklearn/cluster/_kmeans.py:1416: FutureWarning: The default value of `n_init` will change from 10 to 'auto' in 1.4. Set the value of `n_init` explicitly to suppress the warning\n",
      "  super()._check_params_vs_input(X, default_n_init=10)\n",
      "/Users/mgl/opt/anaconda3/lib/python3.9/site-packages/sklearn/utils/extmath.py:192: RuntimeWarning: invalid value encountered in matmul\n",
      "  ret = a @ b\n",
      "/Users/mgl/opt/anaconda3/lib/python3.9/site-packages/sklearn/cluster/_kmeans.py:1416: FutureWarning: The default value of `n_init` will change from 10 to 'auto' in 1.4. Set the value of `n_init` explicitly to suppress the warning\n",
      "  super()._check_params_vs_input(X, default_n_init=10)\n"
     ]
    },
    {
     "name": "stdout",
     "output_type": "stream",
     "text": [
      "Optimal number of clusters: 2\n"
     ]
    },
    {
     "name": "stderr",
     "output_type": "stream",
     "text": [
      "/Users/mgl/opt/anaconda3/lib/python3.9/site-packages/sklearn/utils/extmath.py:192: RuntimeWarning: invalid value encountered in matmul\n",
      "  ret = a @ b\n"
     ]
    }
   ],
   "source": [
    "from sklearn.cluster import KMeans\n",
    "from sklearn.preprocessing import StandardScaler\n",
    "from sklearn.metrics import davies_bouldin_score, silhouette_score\n",
    "\n",
    "silhouette_scores = []\n",
    "K = range(2, 10)\n",
    "for k in K:\n",
    "    kmeanModel = KMeans(n_clusters=k)\n",
    "    labels = kmeanModel.fit_predict(X_public)\n",
    "    silhouette_avg = silhouette_score(X_public, labels)\n",
    "    silhouette_scores.append(silhouette_avg)\n",
    "\n",
    "# Find the optimal number of clusters\n",
    "optimal_n_clusters = K[silhouette_scores.index(max(silhouette_scores))]\n",
    "print(\"Optimal number of clusters:\", optimal_n_clusters)\n"
   ]
  },
  {
   "cell_type": "code",
   "execution_count": 5,
   "id": "2c25d14f",
   "metadata": {},
   "outputs": [
    {
     "name": "stderr",
     "output_type": "stream",
     "text": [
      "/Users/mgl/opt/anaconda3/lib/python3.9/site-packages/sklearn/cluster/_kmeans.py:1416: FutureWarning: The default value of `n_init` will change from 10 to 'auto' in 1.4. Set the value of `n_init` explicitly to suppress the warning\n",
      "  super()._check_params_vs_input(X, default_n_init=10)\n",
      "/Users/mgl/opt/anaconda3/lib/python3.9/site-packages/sklearn/utils/extmath.py:192: RuntimeWarning: invalid value encountered in matmul\n",
      "  ret = a @ b\n",
      "/Users/mgl/opt/anaconda3/lib/python3.9/site-packages/sklearn/utils/extmath.py:192: RuntimeWarning: invalid value encountered in matmul\n",
      "  ret = a @ b\n",
      "/Users/mgl/opt/anaconda3/lib/python3.9/site-packages/sklearn/cluster/_kmeans.py:1416: FutureWarning: The default value of `n_init` will change from 10 to 'auto' in 1.4. Set the value of `n_init` explicitly to suppress the warning\n",
      "  super()._check_params_vs_input(X, default_n_init=10)\n",
      "/Users/mgl/opt/anaconda3/lib/python3.9/site-packages/sklearn/utils/extmath.py:192: RuntimeWarning: invalid value encountered in matmul\n",
      "  ret = a @ b\n",
      "/Users/mgl/opt/anaconda3/lib/python3.9/site-packages/sklearn/cluster/_kmeans.py:1416: FutureWarning: The default value of `n_init` will change from 10 to 'auto' in 1.4. Set the value of `n_init` explicitly to suppress the warning\n",
      "  super()._check_params_vs_input(X, default_n_init=10)\n",
      "/Users/mgl/opt/anaconda3/lib/python3.9/site-packages/sklearn/utils/extmath.py:192: RuntimeWarning: invalid value encountered in matmul\n",
      "  ret = a @ b\n",
      "/Users/mgl/opt/anaconda3/lib/python3.9/site-packages/sklearn/cluster/_kmeans.py:1416: FutureWarning: The default value of `n_init` will change from 10 to 'auto' in 1.4. Set the value of `n_init` explicitly to suppress the warning\n",
      "  super()._check_params_vs_input(X, default_n_init=10)\n",
      "/Users/mgl/opt/anaconda3/lib/python3.9/site-packages/sklearn/utils/extmath.py:192: RuntimeWarning: invalid value encountered in matmul\n",
      "  ret = a @ b\n",
      "/Users/mgl/opt/anaconda3/lib/python3.9/site-packages/sklearn/cluster/_kmeans.py:1416: FutureWarning: The default value of `n_init` will change from 10 to 'auto' in 1.4. Set the value of `n_init` explicitly to suppress the warning\n",
      "  super()._check_params_vs_input(X, default_n_init=10)\n",
      "/Users/mgl/opt/anaconda3/lib/python3.9/site-packages/sklearn/utils/extmath.py:192: RuntimeWarning: invalid value encountered in matmul\n",
      "  ret = a @ b\n",
      "/Users/mgl/opt/anaconda3/lib/python3.9/site-packages/sklearn/cluster/_kmeans.py:1416: FutureWarning: The default value of `n_init` will change from 10 to 'auto' in 1.4. Set the value of `n_init` explicitly to suppress the warning\n",
      "  super()._check_params_vs_input(X, default_n_init=10)\n",
      "/Users/mgl/opt/anaconda3/lib/python3.9/site-packages/sklearn/utils/extmath.py:192: RuntimeWarning: invalid value encountered in matmul\n",
      "  ret = a @ b\n",
      "/Users/mgl/opt/anaconda3/lib/python3.9/site-packages/sklearn/cluster/_kmeans.py:1416: FutureWarning: The default value of `n_init` will change from 10 to 'auto' in 1.4. Set the value of `n_init` explicitly to suppress the warning\n",
      "  super()._check_params_vs_input(X, default_n_init=10)\n",
      "/Users/mgl/opt/anaconda3/lib/python3.9/site-packages/sklearn/utils/extmath.py:192: RuntimeWarning: invalid value encountered in matmul\n",
      "  ret = a @ b\n",
      "/Users/mgl/opt/anaconda3/lib/python3.9/site-packages/sklearn/cluster/_kmeans.py:1416: FutureWarning: The default value of `n_init` will change from 10 to 'auto' in 1.4. Set the value of `n_init` explicitly to suppress the warning\n",
      "  super()._check_params_vs_input(X, default_n_init=10)\n",
      "/Users/mgl/opt/anaconda3/lib/python3.9/site-packages/sklearn/utils/extmath.py:192: RuntimeWarning: invalid value encountered in matmul\n",
      "  ret = a @ b\n",
      "/Users/mgl/opt/anaconda3/lib/python3.9/site-packages/sklearn/cluster/_kmeans.py:1416: FutureWarning: The default value of `n_init` will change from 10 to 'auto' in 1.4. Set the value of `n_init` explicitly to suppress the warning\n",
      "  super()._check_params_vs_input(X, default_n_init=10)\n",
      "/Users/mgl/opt/anaconda3/lib/python3.9/site-packages/sklearn/utils/extmath.py:192: RuntimeWarning: invalid value encountered in matmul\n",
      "  ret = a @ b\n",
      "/Users/mgl/opt/anaconda3/lib/python3.9/site-packages/sklearn/cluster/_kmeans.py:1416: FutureWarning: The default value of `n_init` will change from 10 to 'auto' in 1.4. Set the value of `n_init` explicitly to suppress the warning\n",
      "  super()._check_params_vs_input(X, default_n_init=10)\n",
      "/Users/mgl/opt/anaconda3/lib/python3.9/site-packages/sklearn/utils/extmath.py:192: RuntimeWarning: invalid value encountered in matmul\n",
      "  ret = a @ b\n",
      "/Users/mgl/opt/anaconda3/lib/python3.9/site-packages/sklearn/cluster/_kmeans.py:1416: FutureWarning: The default value of `n_init` will change from 10 to 'auto' in 1.4. Set the value of `n_init` explicitly to suppress the warning\n",
      "  super()._check_params_vs_input(X, default_n_init=10)\n",
      "/Users/mgl/opt/anaconda3/lib/python3.9/site-packages/sklearn/utils/extmath.py:192: RuntimeWarning: invalid value encountered in matmul\n",
      "  ret = a @ b\n",
      "/Users/mgl/opt/anaconda3/lib/python3.9/site-packages/sklearn/cluster/_kmeans.py:1416: FutureWarning: The default value of `n_init` will change from 10 to 'auto' in 1.4. Set the value of `n_init` explicitly to suppress the warning\n",
      "  super()._check_params_vs_input(X, default_n_init=10)\n"
     ]
    },
    {
     "name": "stdout",
     "output_type": "stream",
     "text": [
      "Optimal number of clusters: 8\n"
     ]
    },
    {
     "name": "stderr",
     "output_type": "stream",
     "text": [
      "/Users/mgl/opt/anaconda3/lib/python3.9/site-packages/sklearn/utils/extmath.py:192: RuntimeWarning: invalid value encountered in matmul\n",
      "  ret = a @ b\n"
     ]
    }
   ],
   "source": [
    "import numpy as np\n",
    "from sklearn.cluster import KMeans\n",
    "from sklearn.metrics import pairwise_distances\n",
    "from scipy.spatial import distance\n",
    "\n",
    "# Load and preprocess your data (X_public) as needed\n",
    "\n",
    "# Dunn Index\n",
    "def dunn_index(X, labels):\n",
    "    n_clusters = len(np.unique(labels))\n",
    "    cluster_distances = []\n",
    "    for cluster_label in range(n_clusters):\n",
    "        cluster_points = X[labels == cluster_label]\n",
    "        cluster_distances.append(pairwise_distances(cluster_points, cluster_points).max())\n",
    "    min_inter_cluster_distance = pairwise_distances(X, metric='euclidean').max()\n",
    "    dunn_index = min_inter_cluster_distance / max(cluster_distances)\n",
    "    return dunn_index\n",
    "\n",
    "\n",
    "# Determine the optimal number of clusters using the Dunn Index\n",
    "best_dunn_index = -1\n",
    "best_n_clusters = 2  # Start with a minimum of 1 clusters\n",
    "\n",
    "for n_clusters in range(2, 14):  # Try different numbers of clusters\n",
    "    kmeans = KMeans(n_clusters=n_clusters, random_state=1)\n",
    "    clustering = kmeans.fit_predict(X_public)\n",
    "    current_dunn_index = dunn_index(X_public, clustering)\n",
    "    \n",
    "    if current_dunn_index > best_dunn_index:\n",
    "        best_dunn_index = current_dunn_index\n",
    "        best_n_clusters = n_clusters\n",
    "\n",
    "print(\"Optimal number of clusters:\", best_n_clusters)\n"
   ]
  },
  {
   "cell_type": "code",
   "execution_count": 9,
   "id": "c45547c5",
   "metadata": {},
   "outputs": [
    {
     "name": "stderr",
     "output_type": "stream",
     "text": [
      "/Users/mgl/opt/anaconda3/lib/python3.9/site-packages/sklearn/cluster/_kmeans.py:1416: FutureWarning: The default value of `n_init` will change from 10 to 'auto' in 1.4. Set the value of `n_init` explicitly to suppress the warning\n",
      "  super()._check_params_vs_input(X, default_n_init=10)\n"
     ]
    }
   ],
   "source": [
    "# Determine the optimal number of clusters\n",
    "best_n_clusters = 8  # Replace with the determined optimal number of clusters\n",
    "\n",
    "# Apply K-Means clustering with the optimal number of clusters\n",
    "kmeans = KMeans(n_clusters=best_n_clusters, random_state=1)\n",
    "preds = kmeans.fit_predict(X_public)"
   ]
  },
  {
   "cell_type": "code",
   "execution_count": 10,
   "id": "1d6a6cdd",
   "metadata": {},
   "outputs": [],
   "source": [
    "submission = pd.DataFrame({'Label': preds})\n",
    "submission.to_csv('assignment_4.csv', index=True, index_label='Id')"
   ]
  },
  {
   "cell_type": "code",
   "execution_count": 14,
   "id": "5fad9aa1",
   "metadata": {},
   "outputs": [],
   "source": [
    "#after trying optimal n_cluster, I find that the n_cluster=8 would be the best in Kmeans."
   ]
  },
  {
   "cell_type": "code",
   "execution_count": 12,
   "id": "4440d463",
   "metadata": {},
   "outputs": [],
   "source": [
    "#So the result should be Kmeans at optimal n_cluster=8"
   ]
  },
  {
   "cell_type": "code",
   "execution_count": null,
   "id": "341caab9",
   "metadata": {},
   "outputs": [],
   "source": []
  }
 ],
 "metadata": {
  "kernelspec": {
   "display_name": "Python 3 (ipykernel)",
   "language": "python",
   "name": "python3"
  },
  "language_info": {
   "codemirror_mode": {
    "name": "ipython",
    "version": 3
   },
   "file_extension": ".py",
   "mimetype": "text/x-python",
   "name": "python",
   "nbconvert_exporter": "python",
   "pygments_lexer": "ipython3",
   "version": "3.9.7"
  }
 },
 "nbformat": 4,
 "nbformat_minor": 5
}
